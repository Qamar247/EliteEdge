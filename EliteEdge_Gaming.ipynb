{
  "nbformat": 4,
  "nbformat_minor": 0,
  "metadata": {
    "colab": {
      "provenance": []
    },
    "kernelspec": {
      "name": "python3",
      "display_name": "Python 3"
    },
    "language_info": {
      "name": "python"
    }
  },
  "cells": [
    {
      "cell_type": "markdown",
      "source": [
        "# **Introduction**  \n",
        "\n",
        "**Decoding Subscriber Growth in Gaming Arena**\n",
        "\n",
        "* In the fiercely competitive landscape of the gaming industry, understanding subscriber growth patterns is paramount for success.\n",
        "\n",
        "* EliteEdge, a gaming subscription service, faces the critical challenge of deciphering these patterns to fuel sustainable growth.\n",
        "\n",
        "* This analysis dives deep into EliteEdge's subscription data, seeking to uncover the secrets behind customer behavior and operational optimization."
      ],
      "metadata": {
        "id": "OFQ-wV-3G5-z"
      }
    },
    {
      "cell_type": "markdown",
      "source": [
        "# **Problem Statement**\n",
        "\n",
        "EliteEdge is facing a problem in understanding subscriber growth patterns and how to increase the growth rate."
      ],
      "metadata": {
        "id": "HyaJkx551X7m"
      }
    },
    {
      "cell_type": "markdown",
      "source": [
        "# **Business Context**\n",
        "\n",
        "* Imagine a world where EliteEdge can predict subscriber churn, identify prime opportunities for acquisition, and tailor strategies to maximize customer lifetime value.\n",
        "\n",
        "* This analysis aims to unlock that potential. By examining key metrics such as reclaims, renewals, and paid net growth, we aim to answer crucial business questions that will guide EliteEdge's strategic decision-making."
      ],
      "metadata": {
        "id": "elGYZqAi1m_d"
      }
    },
    {
      "cell_type": "markdown",
      "source": [
        "# **Business Questions**"
      ],
      "metadata": {
        "id": "ZcyNQbA7kVG4"
      }
    },
    {
      "cell_type": "markdown",
      "source": [
        "**Q1:** Provide the work out exactly how we differentiate between Reclaims and Renewals.\n",
        "\n",
        "**Q2:** What was the paid net growth on the 20th of September.\n",
        "\n",
        "**Q3:** How many people were on a trial on the 1st of October? Include both people who started a trial and ended a trial on that day.\n",
        "\n",
        "**Q4:** Plot a graph that shows the paid net growth each month between June and December.\n",
        "\n",
        "**Q5:** Plot a graph that shows the size of the paid base each day between June 1st and December 31st, split by 1, 3 and 12 month subscribers and Acquisitions/Reclaims/Renewals.\n",
        "\n",
        "**Q6:** Using knowledge of the gaming industry, explain the findings."
      ],
      "metadata": {
        "id": "CetraRKHkjNU"
      }
    },
    {
      "cell_type": "markdown",
      "source": [
        "## **STEP 1:  Importing libraries**"
      ],
      "metadata": {
        "id": "I_Bi_uOQk3wl"
      }
    },
    {
      "cell_type": "code",
      "execution_count": null,
      "metadata": {
        "id": "cIgc-sgXjxA7"
      },
      "outputs": [],
      "source": [
        "import pandas as pd\n",
        "import matplotlib.pyplot as plt\n",
        "import plotly.express as px\n",
        "import plotly.graph_objects as go\n",
        "import seaborn as sns"
      ]
    },
    {
      "cell_type": "markdown",
      "source": [
        "## **STEP 2: Load the Dataset**"
      ],
      "metadata": {
        "id": "roIfZOfOt9xE"
      }
    },
    {
      "cell_type": "code",
      "source": [
        "df = pd.read_csv('https://raw.githubusercontent.com/Qamar247/EliteEdge/main/Gaming%20company%20data.csv')\n",
        "\n",
        "#checking the data, if it is loaded\n",
        "df.head()\n",
        "df.head()\n"
      ],
      "metadata": {
        "id": "tbeR8EzvkZsq"
      },
      "execution_count": null,
      "outputs": []
    },
    {
      "cell_type": "markdown",
      "source": [
        "## **STEP 3: Data Preprocessing**"
      ],
      "metadata": {
        "id": "X9U37G1VuE3b"
      }
    },
    {
      "cell_type": "code",
      "source": [
        "# Ensuring that we have the correct Data-types\n",
        "df.dtypes\n",
        "\n",
        "#here we notice that the columns ('SUB_START_DATE' & 'SUB_END_DATE') needs to be converted into \"datetime\"\n"
      ],
      "metadata": {
        "id": "HPBgIRuxwbgN"
      },
      "execution_count": null,
      "outputs": []
    },
    {
      "cell_type": "code",
      "source": [
        "# Converting dates to datetime\n",
        "df['SUB_START_DATE'] = pd.to_datetime(df['SUB_START_DATE'])\n",
        "df['SUB_END_DATE'] = pd.to_datetime(df['SUB_END_DATE'])\n",
        "\n",
        "df.dtypes"
      ],
      "metadata": {
        "id": "hj6D3IWCybKs"
      },
      "execution_count": null,
      "outputs": []
    },
    {
      "cell_type": "code",
      "source": [
        "# check for null values\n",
        "df.isnull().sum()"
      ],
      "metadata": {
        "id": "ezr_MZuCzVzq"
      },
      "execution_count": null,
      "outputs": []
    },
    {
      "cell_type": "code",
      "source": [
        "# now we create additional columns(e.g., 'Reclaims' & 'Renewals') to later answer our questions.\n",
        "# This differentiation is crucial for further analysis, especially when we want to understand customer behavior and subscription patterns.\n",
        "\n",
        "# Identifying the type of subscription for differentiation\n",
        "df['Is_Reclaim'] = df['SUB_STATE'].apply(lambda x: 1 if x == 'Reclaim' else 0)\n",
        "df['Is_Renewal'] = df['SUB_STATE'].apply(lambda x: 1 if x == 'Renewal' else 0)\n",
        "\n",
        "df"
      ],
      "metadata": {
        "id": "Dxs8TBIdyr_z"
      },
      "execution_count": null,
      "outputs": []
    },
    {
      "cell_type": "markdown",
      "source": [
        "## **STEP 4: Answering Business Questions**"
      ],
      "metadata": {
        "id": "V9RevSFiuSmP"
      }
    },
    {
      "cell_type": "markdown",
      "source": [
        "**Q1: Differentiate Between Reclaims and Renewals**"
      ],
      "metadata": {
        "id": "lnL8-bQr1Qcw"
      }
    },
    {
      "cell_type": "code",
      "source": [
        "reclaims = df[df['Is_Reclaim'] == 1]\n",
        "renewals = df[df['Is_Renewal'] == 1]\n",
        "\n",
        "\n",
        "# Concatenating reclaims & renewals into a df\n",
        "reclaims_renewals_df = pd.concat([reclaims, renewals])\n",
        "\n",
        "\n",
        "# Chekcing the new dataframe\n",
        "reclaims_renewals_df.head()\n"
      ],
      "metadata": {
        "id": "toWYVKSG1Mbl"
      },
      "execution_count": null,
      "outputs": []
    },
    {
      "source": [
        "# Count the reclaims\n",
        "reclaim_count = df['Is_Reclaim'].sum()\n",
        "\n",
        "# Count the renewals\n",
        "renewal_count = df['Is_Renewal'].sum()\n",
        "\n",
        "# Total number the counts\n",
        "print(f\"Number of reclaims: {reclaim_count}\")\n",
        "print(f\"Number of renewals: {renewal_count}\")"
      ],
      "cell_type": "code",
      "execution_count": null,
      "outputs": [],
      "metadata": {
        "cellView": "form",
        "id": "11FPxY383gUV"
      }
    },
    {
      "cell_type": "code",
      "source": [
        "# Created 2 additional columns (\"SUB_DURATION_DAYS\" &\t\"SUB_DURATION\")\n",
        "\n",
        "# Calculate subscription duration in days\n",
        "df['SUB_DURATION_DAYS'] = (df['SUB_END_DATE'] - df['SUB_START_DATE']).dt.days\n",
        "\n",
        "# Create a new column 'SUB_DURATION' based on the duration in days\n",
        "df['SUB_DURATION'] = pd.cut(df['SUB_DURATION_DAYS'],\n",
        "                               bins=[0, 30, 90, 365, float('inf')],\n",
        "                               labels=['1 Month', '3 Months', '12 Months', 'Other'],\n",
        "                               include_lowest=True,\n",
        "                               right=False)\n",
        "\n",
        "df\n"
      ],
      "metadata": {
        "id": "BmRVH5TC5CCu"
      },
      "execution_count": null,
      "outputs": []
    },
    {
      "cell_type": "markdown",
      "source": [
        "**Q1. SUMMARY**\n",
        "\n",
        "* Understanding the distinction between reclaims and renewals is crucial for EliteEdge to tailor its retention strategies.\n",
        "\n",
        "* Reclaims indicate customers who previously canceled but returned, while renewals represent continued loyalty.\n",
        "\n",
        "* By analyzing these segments, EliteEdge can identify factors driving customer churn and implement targeted initiatives to improve retention."
      ],
      "metadata": {
        "id": "MseQL4Yx2qay"
      }
    },
    {
      "cell_type": "markdown",
      "source": [
        "**Q2: Paid Net Growth on September 20**\n",
        "\n",
        "Paid Net Growth = New Paid Subscribers - Churned Paid Subscribers"
      ],
      "metadata": {
        "id": "Q9MgAR7x-pQZ"
      }
    },
    {
      "cell_type": "code",
      "source": [
        "# This involves \"counting new paid subscribers\" and \"subtracting churned paid subscribers\" for \"September 20\".\n",
        "\n",
        "\n",
        "# Filter for September 20th\n",
        "sept_20_data = df[(df['SUB_START_DATE'] == '2020-09-20') | (df['SUB_END_DATE'] == '2020-09-20')]\n",
        "\n",
        "# Calculate new paid subscribers\n",
        "new_paid_subs = sept_20_data[(sept_20_data['SUB_START_DATE'] == '2020-09-20') & (sept_20_data['SUBSCRIPTION_BILLABLE_TYPE'] == 'Paid')].shape[0]\n",
        "\n",
        "\n",
        "# Calculate churned paid subscribers\n",
        "churned_paid_subs = sept_20_data[(sept_20_data['SUB_END_DATE'] == '2020-09-20') & (sept_20_data['SUBSCRIPTION_BILLABLE_TYPE'] == 'Paid')].shape[0]\n",
        "\n",
        "# Calculate paid net growth\n",
        "paid_net_growth = new_paid_subs - churned_paid_subs\n",
        "\n",
        "print(f\"Paid Net Growth on September 20th, 2020: {paid_net_growth}\")\n",
        "\n"
      ],
      "metadata": {
        "id": "dbxzL1Am-sUk"
      },
      "execution_count": null,
      "outputs": []
    },
    {
      "cell_type": "markdown",
      "source": [
        "**Q2. SUMMARY**\n",
        "\n",
        "* The positive paid net growth on September 20th highlights the effectiveness of EliteEdge's marketing efforts or new game releases during that period.\n",
        "\n",
        "* This information can be used to benchmark future campaigns and identify optimal timing for promotional activities.\n",
        "\n"
      ],
      "metadata": {
        "id": "SujG_X7U3DRt"
      }
    },
    {
      "cell_type": "markdown",
      "source": [
        "**Q3: Trial Subscribers on October 1**\n",
        "\n",
        "Now we \"count the number of users on a trial on October 1st\".                                                                                                                  \n",
        "This includes users who started and ended their trials on 1 October."
      ],
      "metadata": {
        "id": "IZ6rMdZkA3I6"
      }
    },
    {
      "cell_type": "code",
      "source": [
        "\n",
        "oct_1_trials = df[(df['SUB_START_DATE'] == '2020-10-01') | (df['SUB_END_DATE'] == '2020-10-01')]\n",
        "\n",
        "# Filter for trials and store in a dataframe\n",
        "trial_subscribers_df = oct_1_trials[oct_1_trials['SUBSCRIPTION_TYPE'] == 'Trial']\n",
        "\n",
        "# Check the dataframe\n",
        "trial_subscribers_df\n"
      ],
      "metadata": {
        "id": "gUIf8rg--tdd"
      },
      "execution_count": null,
      "outputs": []
    },
    {
      "cell_type": "code",
      "source": [
        "# here we have trials for October\n",
        "\n",
        "trial_count_df = oct_1_trials[oct_1_trials['SUBSCRIPTION_TYPE'] == 'Trial'].count()\n",
        "trial_count_df"
      ],
      "metadata": {
        "id": "JSIhfQAa-uEK"
      },
      "execution_count": null,
      "outputs": []
    },
    {
      "cell_type": "markdown",
      "source": [
        "**Q3. SUMMARY**\n",
        "\n",
        "* The number of trial subscribers on October 1st provides valuable insights into the potential for converting trial users to paid subscribers.\n",
        "\n",
        "* EliteEdge can leverage this data to tailor onboarding experiences and optimize conversion strategies.\""
      ],
      "metadata": {
        "id": "wnS9_H0z3agJ"
      }
    },
    {
      "cell_type": "markdown",
      "source": [
        "**Q4: Paid Net Growth Each Month (June to December)**"
      ],
      "metadata": {
        "id": "1Tm1Jr-NDH8U"
      }
    },
    {
      "cell_type": "code",
      "source": [
        "# Extract the Month\n",
        "df['Month'] = df['SUB_START_DATE'].dt.to_period(\"M\")\n",
        "\n",
        "\n",
        "#Calculating Monthly Paid Net Growth\n",
        "\n",
        "# Filtered for Paid subscriptions and group by month\n",
        "monthly_growth = df[df['SUBSCRIPTION_BILLABLE_TYPE'] == 'Paid'].groupby('Month').size()\n",
        "\n",
        "monthly_growth\n",
        "\n"
      ],
      "metadata": {
        "id": "5CIj0Mjy-uPT"
      },
      "execution_count": null,
      "outputs": []
    },
    {
      "cell_type": "code",
      "source": [
        "# Plotting the data\n",
        "fig = go.Figure(data=[go.Bar(x=monthly_growth.index.astype(str), y=monthly_growth.values)])\n",
        "\n",
        "fig.update_layout(\n",
        "    title='Monthly Paid Net Growth (June-December)',\n",
        "    xaxis_title='Month',\n",
        "    yaxis_title='Paid Net Growth',\n",
        "    autosize=False,\n",
        "    width=1000,\n",
        "    height=600\n",
        ")\n",
        "\n",
        "fig.show()\n"
      ],
      "metadata": {
        "id": "SCEO41r-F6KT"
      },
      "execution_count": null,
      "outputs": []
    },
    {
      "cell_type": "markdown",
      "source": [
        "**Q4. SUMMARY**\n",
        "\n",
        "* The monthly paid net growth trend reveals crucial seasonal patterns for EliteEdge. The surge in December aligns with the holiday season, indicating a prime opportunity for targeted promotions and new game launches.\n",
        "\n",
        "* Understanding these seasonal fluctuations enables EliteEdge to better allocate resources and optimize marketing strategies throughout the year."
      ],
      "metadata": {
        "id": "142NHtV33nSm"
      }
    },
    {
      "cell_type": "markdown",
      "source": [
        "**Q5: Daily Size of Paid Base (June to December) broken down by subscription duration (1, 3, and 12 months) and by acquisition type (Acquisitions/Reclaims/Renewals).**"
      ],
      "metadata": {
        "id": "bj_9ukyVS6Sb"
      }
    },
    {
      "cell_type": "markdown",
      "source": [
        "### **Data Filtering**"
      ],
      "metadata": {
        "id": "Tu5O3c-pYXTs"
      }
    },
    {
      "cell_type": "code",
      "source": [
        "# Filter data for date range (June 1st to December 31st) and paid subscriptions\n",
        "filtered_df = df[(df['SUB_START_DATE'] >= '2020-06-01') & (df['SUB_END_DATE'] <= '2020-12-31') & (df['SUBSCRIPTION_TYPE'] == 'Wallet')].copy()\n",
        "\n",
        "\n",
        "# Created a new column to categorize Acquisitions/Reclaims/Renewals. Then used .loc for the entire column.\n",
        "filtered_df.loc[:, 'AcquisitionType'] = 'Acquisition'\n",
        "filtered_df.loc[filtered_df['Is_Reclaim'] == 1, 'AcquisitionType'] = 'Reclaim'\n",
        "filtered_df.loc[filtered_df['Is_Renewal'] == 1, 'AcquisitionType'] = 'Renewal'\n",
        "\n",
        "\n",
        "# Grouped data by date, subscription duration, and acquisition type, then count unique accounts\n",
        "daily_data = filtered_df.groupby(['SUB_START_DATE', 'SUB_DURATION', 'AcquisitionType'], observed=False)['ACCT_ID'].nunique().reset_index()\n",
        "\n",
        "\n",
        "# Pivot the data for plotting\n",
        "daily_data_pivot = daily_data.pivot_table(index='SUB_START_DATE', columns=['SUB_DURATION', 'AcquisitionType'], values='ACCT_ID', fill_value=0, observed=False)\n",
        "\n",
        "\n",
        "\n",
        "# Interactive Visualization using Plotly\n",
        "fig = px.area(daily_data, x=\"SUB_START_DATE\", y=\"ACCT_ID\", color=\"SUB_DURATION\", facet_col=\"AcquisitionType\",\n",
        "             title=\"Daily Size of Paid Base (June to December)\",\n",
        "             labels={\"SUB_START_DATE\": \"Date\", \"ACCT_ID\": \"Number of Subscribers\",\n",
        "                     \"SUB_DURATION\": \"Subscription Duration\", \"AcquisitionType\": \"Acquisition Type\"})\n",
        "\n",
        "fig.show()\n",
        "\n"
      ],
      "metadata": {
        "id": "LDUtzgX18z74"
      },
      "execution_count": null,
      "outputs": []
    },
    {
      "cell_type": "markdown",
      "source": [
        "**Q5. SUMMARY**\n",
        "\n",
        "* The visualization of daily paid base size provides a granular view of subscriber dynamics.  \n",
        "\n",
        "* The breakdown by subscription duration and acquisition type allows EliteEdge to understand customer preferences and identify opportunities to incentivize longer-term subscriptions and target specific customer segments for acquisition or retention."
      ],
      "metadata": {
        "id": "XHd84Jl25UFn"
      }
    },
    {
      "cell_type": "markdown",
      "source": [
        "### STEP 5: Data Visualization"
      ],
      "metadata": {
        "id": "hwY0L3tCugYZ"
      }
    },
    {
      "cell_type": "markdown",
      "source": [
        "**Q4 Visualization: Line plot showing  monthly paid net growth**."
      ],
      "metadata": {
        "id": "B4OVZbb1slA4"
      }
    },
    {
      "cell_type": "code",
      "source": [
        "# Plotting the data\n",
        "fig = go.Figure(data=[go.Scatter(x=monthly_growth.index.astype(str), y=monthly_growth.values, mode='lines+markers', marker=dict(symbol='circle'))])\n",
        "fig.update_layout(\n",
        "    title='Monthly Paid Net Growth (June-December)',\n",
        "    xaxis_title='Month',\n",
        "    yaxis_title='Paid Net Growth',\n",
        "    hovermode='x unified'\n",
        ")\n",
        "fig.show()\n"
      ],
      "metadata": {
        "id": "68XDQBKxm8-_"
      },
      "execution_count": null,
      "outputs": []
    },
    {
      "cell_type": "markdown",
      "source": [
        "**Q5 Visualization: Line plot showing daily paid base size from June 1st to December 31st, with separate lines for each subscription duration (1, 3, and 12 months).**\n",
        "\n",
        "Further segmented each line by Acquisition/Reclaim/Renewal."
      ],
      "metadata": {
        "id": "eATJfpteti0Z"
      }
    },
    {
      "cell_type": "code",
      "source": [
        "# Reshape the data for Plotly Express\n",
        "daily_data_melted = daily_data_pivot.stack(level=[0, 1], future_stack=True).reset_index()\n",
        "daily_data_melted.columns = ['Date', 'Subscription Duration', 'Acquisition Type', 'Number of Subscribers']\n",
        "\n",
        "\n",
        "# Create the interactive plot\n",
        "fig = px.line(daily_data_melted, x='Date', y='Number of Subscribers',\n",
        "              color='Subscription Duration', line_dash='Acquisition Type',\n",
        "              title='Daily Paid Base Size (June to December)')\n",
        "\n",
        "fig.update_layout(hovermode='x unified', autosize=False, width=1200, height=600)\n",
        "fig.show()\n",
        "\n"
      ],
      "metadata": {
        "id": "PRyYNQH1mSYZ"
      },
      "execution_count": null,
      "outputs": []
    },
    {
      "cell_type": "markdown",
      "source": [
        "**Q6: Using knowledge of the gaming industry, explain the findings.**\n",
        "\n",
        "### **Key findings**"
      ],
      "metadata": {
        "id": "343Wvhy4n2qn"
      }
    },
    {
      "cell_type": "markdown",
      "source": [
        "Visualizations reveal an upward trend in paid subscriptions over the observed period (June to December). This growth is observed due to factors such as:"
      ],
      "metadata": {
        "id": "7E3RKV1qvIdh"
      }
    },
    {
      "cell_type": "markdown",
      "source": [
        "*   **Seasonality:** Gaming industry typically experiences increased activity during the holiday season (November and December). This is when people are more likely to purchase games and consoles, leading to a surge in subscriptions.\n",
        "\n",
        "*  **Marketing Campaigns:** Targeted marketing campaigns and promotions drive new subscriptions and reclaims. Promotions often coincide with major game releases or holidays, further amplifying their impact.\n",
        "\n"
      ],
      "metadata": {
        "id": "y36l3Q6wvb_J"
      }
    },
    {
      "cell_type": "markdown",
      "source": [
        "This analysis has revealed valuable insights into EliteEdge's subscriber base and growth patterns. By leveraging these findings, EliteEdge can optimize its marketing strategies, tailor customer experiences, and drive sustainable growth."
      ],
      "metadata": {
        "id": "F1FwlyqLwd7k"
      }
    },
    {
      "cell_type": "markdown",
      "source": [
        "### **Gaming Industry Knowledge**"
      ],
      "metadata": {
        "id": "9XQTHTX4ySTj"
      }
    },
    {
      "cell_type": "markdown",
      "source": [
        "* Gaming market is heavily influenced by seasonality, with peaks during holidays and major game releases.\n",
        "\n",
        "* Marketing strategies, competitive dynamics, and pricing models play crucial roles in attracting and retaining subscribers.\n"
      ],
      "metadata": {
        "id": "2MNmI8nwygwX"
      }
    },
    {
      "cell_type": "markdown",
      "source": [
        "**Project Findings & actionable recommendations based on insights**"
      ],
      "metadata": {
        "id": "M45dpEjryzzG"
      }
    },
    {
      "cell_type": "markdown",
      "source": [
        "EliteEdge should focus on **targeted marketing campaigns** during **peak seasons**, implement **strategies to convert trial users to paid subscribers**, and **incentivize longer-term subscriptions** to enhance customer lifetime value.\n",
        "\n",
        "This analysis serves as a compass, guiding EliteEdge towards **sustainable growth** in the exciting world of gaming. By embracing **data-driven insights**, EliteEdge can **transform challenges into opportunities** and solidify its **position as a leader in the industry**.\n"
      ],
      "metadata": {
        "id": "RyvEUXY-zDzy"
      }
    },
    {
      "cell_type": "markdown",
      "source": [
        "# **Engagement/ Dashboard**\n",
        "* user can select the data what they want to view."
      ],
      "metadata": {
        "id": "_0fItj2pBULM"
      }
    },
    {
      "cell_type": "code",
      "source": [
        "# Q4\n",
        "\n",
        "import plotly.graph_objects as go\n",
        "\n",
        "# ... (Your existing code for monthly_growth) ...\n",
        "fig = go.Figure(data=[go.Scatter(x=monthly_growth.index.astype(str), y=monthly_growth.values, mode='lines+markers', marker=dict(symbol='circle'))])\n",
        "fig.update_layout(\n",
        "    title='Monthly Paid Net Growth (June-December)',\n",
        "    xaxis_title='Month',\n",
        "    yaxis_title='Paid Net Growth',\n",
        "    hovermode='x unified'\n",
        ")\n",
        "fig.show()\n",
        "\n",
        "\n",
        "#-----------------------------------------------------------------------------------------------------------\n",
        "# Creating the interactive line plot with dropdown menu\n",
        "fig = go.Figure()\n",
        "\n",
        "# Add traces for different subscription durations\n",
        "for subscription_type in daily_data_melted['Subscription Duration'].unique():\n",
        "    filtered_data = daily_data_melted[daily_data_melted['Subscription Duration'] == subscription_type]\n",
        "    fig.add_trace(go.Scatter(x=filtered_data['Date'], y=filtered_data['Number of Subscribers'],\n",
        "                             mode='lines+markers', name=subscription_type))\n",
        "\n",
        "# Create dropdown menu\n",
        "fig.update_layout(\n",
        "    updatemenus=[\n",
        "        dict(\n",
        "            type=\"dropdown\",\n",
        "            direction=\"down\",\n",
        "            buttons=list([\n",
        "                dict(\n",
        "                    args=[{\"visible\": [True, True, True]},\n",
        "                          {\"title\": \"All Subscription Durations\"}],\n",
        "                    label=\"All\",\n",
        "                    method=\"update\"\n",
        "                ),\n",
        "                dict(\n",
        "                    args=[{\"visible\": [True, False, False]},\n",
        "                          {\"title\": \"1 Month Subscription\"}],\n",
        "                    label=\"1 Month\",\n",
        "                    method=\"update\"\n",
        "                ),\n",
        "                dict(\n",
        "                    args=[{\"visible\": [False, True, False]},\n",
        "                          {\"title\": \"3 Months Subscription\"}],\n",
        "                    label=\"3 Months\",\n",
        "                    method=\"update\"\n",
        "                ),\n",
        "                dict(\n",
        "                    args=[{\"visible\": [False, False, True]},\n",
        "                          {\"title\": \"12 Months Subscription\"}],\n",
        "                    label=\"12 Months\",\n",
        "                    method=\"update\"\n",
        "                )\n",
        "            ]),\n",
        "            pad={\"r\": 10, \"t\": 10},\n",
        "            showactive=True,\n",
        "            x=0.11,\n",
        "            xanchor=\"left\",\n",
        "            y=1.1,\n",
        "            yanchor=\"top\"\n",
        "        ),\n",
        "    ]\n",
        ")\n",
        "\n",
        "# Update layout for better visualization\n",
        "fig.update_layout(\n",
        "    title='Daily Paid Base Size (June to December)',\n",
        "    xaxis_title='Date',\n",
        "    yaxis_title='Number of Subscribers',\n",
        "    hovermode='x unified',\n",
        "    autosize=False,\n",
        "    width=1200,\n",
        "    height=600\n",
        ")\n",
        "\n",
        "fig.show()\n"
      ],
      "metadata": {
        "id": "iZTDD-rZCusc"
      },
      "execution_count": null,
      "outputs": []
    },
    {
      "cell_type": "markdown",
      "source": [
        "\n",
        "\n",
        "---\n",
        "\n"
      ],
      "metadata": {
        "id": "x2n-GgUkDSPO"
      }
    },
    {
      "cell_type": "code",
      "source": [
        "# Q5\n",
        "\n",
        "# Filter data for date range (June 1st to December 31st) and paid subscriptions\n",
        "filtered_df = df[(df['SUB_START_DATE'] >= '2020-06-01') & (df['SUB_END_DATE'] <= '2020-12-31') & (df['SUBSCRIPTION_TYPE'] == 'Wallet')].copy()\n",
        "\n",
        "\n",
        "# Created a new column to categorize Acquisitions/Reclaims/Renewals. Then used .loc for the entire column.\n",
        "filtered_df.loc[:, 'AcquisitionType'] = 'Acquisition'\n",
        "filtered_df.loc[filtered_df['Is_Reclaim'] == 1, 'AcquisitionType'] = 'Reclaim'\n",
        "filtered_df.loc[filtered_df['Is_Renewal'] == 1, 'AcquisitionType'] = 'Renewal'\n",
        "\n",
        "\n",
        "# Grouped data by date, subscription duration, and acquisition type, then count unique accounts\n",
        "daily_data = filtered_df.groupby(['SUB_START_DATE', 'SUB_DURATION', 'AcquisitionType'], observed=False)['ACCT_ID'].nunique().reset_index()\n",
        "\n",
        "\n",
        "# Pivot the data for plotting\n",
        "daily_data_pivot = daily_data.pivot_table(index='SUB_START_DATE', columns=['SUB_DURATION', 'AcquisitionType'], values='ACCT_ID', fill_value=0, observed=False)\n",
        "\n",
        "\n",
        "\n",
        "# Interactive Visualization using Plotly\n",
        "fig = px.area(daily_data, x=\"SUB_START_DATE\", y=\"ACCT_ID\", color=\"SUB_DURATION\", facet_col=\"AcquisitionType\",\n",
        "             title=\"Daily Size of Paid Base (June to December)\",\n",
        "             labels={\"SUB_START_DATE\": \"Date\", \"ACCT_ID\": \"Number of Subscribers\",\n",
        "                     \"SUB_DURATION\": \"Subscription Duration\", \"AcquisitionType\": \"Acquisition Type\"})\n",
        "\n",
        "fig.show()\n",
        "\n",
        "# Interactive dashboard----------------------------------------------------------------------------------------------------------\n",
        "from ipywidgets import interact\n",
        "\n",
        "@interact(\n",
        "    subscription_type=daily_data_melted['Subscription Duration'].unique(),\n",
        "    acquisition_type=daily_data_melted['Acquisition Type'].unique()\n",
        ")\n",
        "def update_plot(subscription_type, acquisition_type):\n",
        "    filtered_data = daily_data_melted[\n",
        "        (daily_data_melted['Subscription Duration'] == subscription_type) &\n",
        "        (daily_data_melted['Acquisition Type'] == acquisition_type)\n",
        "    ]\n",
        "    fig = px.line(filtered_data, x='Date', y='Number of Subscribers',\n",
        "                  title=f'Daily Paid Base Size ({subscription_type}, {acquisition_type})')\n",
        "    fig.show()\n",
        "\n"
      ],
      "metadata": {
        "id": "JaVCNGWyEm1p"
      },
      "execution_count": null,
      "outputs": []
    },
    {
      "cell_type": "code",
      "source": [
        "# Q5\n",
        "import plotly.graph_objects as go\n",
        "import plotly.express as px\n",
        "from ipywidgets import interact\n",
        "\n",
        "\n",
        "# Reshape the data for Plotly Express\n",
        "daily_data_melted = daily_data_pivot.stack(level=[0, 1], future_stack=True).reset_index()\n",
        "daily_data_melted.columns = ['Date', 'Subscription Duration', 'Acquisition Type', 'Number of Subscribers']\n",
        "\n",
        "\n",
        "# Create the interactive plot\n",
        "fig = px.line(daily_data_melted, x='Date', y='Number of Subscribers',\n",
        "              color='Subscription Duration', line_dash='Acquisition Type',\n",
        "              title='Daily Paid Base Size (June to December)')\n",
        "\n",
        "fig.update_layout(hovermode='x unified', autosize=False, width=1200, height=600)\n",
        "fig.show()\n",
        "\n",
        "\n",
        "# Interactive dashboard\n",
        "\n",
        "@interact(\n",
        "    subscription_type=daily_data_melted['Subscription Duration'].unique(),\n",
        "    acquisition_type=daily_data_melted['Acquisition Type'].unique()\n",
        ")\n",
        "def update_plot(subscription_type, acquisition_type):\n",
        "    filtered_data = daily_data_melted[\n",
        "        (daily_data_melted['Subscription Duration'] == subscription_type) &\n",
        "        (daily_data_melted['Acquisition Type'] == acquisition_type)\n",
        "    ]\n",
        "    fig = px.line(filtered_data, x='Date', y='Number of Subscribers',\n",
        "                  title=f'Daily Paid Base Size ({subscription_type}, {acquisition_type})')\n",
        "    fig.show()\n",
        "\n"
      ],
      "metadata": {
        "id": "93kBQsvfBf0b"
      },
      "execution_count": null,
      "outputs": []
    }
  ]
}